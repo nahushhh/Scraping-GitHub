{
 "cells": [
  {
   "cell_type": "markdown",
   "id": "afc3fcc6",
   "metadata": {},
   "source": [
    "# Web Scraping GitHub\n",
    "\n",
    "This notebook extracts data from https://github.com/topics. Necessary information like topic name, topic's description, top repositories for that topic and the creators of those top repositories is scraped from the website."
   ]
  },
  {
   "cell_type": "markdown",
   "id": "2ceba329",
   "metadata": {},
   "source": [
    "## Importing necessary modules"
   ]
  },
  {
   "cell_type": "code",
   "execution_count": 2,
   "id": "02375c95",
   "metadata": {},
   "outputs": [],
   "source": [
    "import requests\n",
    "from bs4 import BeautifulSoup\n",
    "import pandas as pd"
   ]
  },
  {
   "cell_type": "markdown",
   "id": "9f03c7e0",
   "metadata": {},
   "source": [
    "## Getting data"
   ]
  },
  {
   "cell_type": "code",
   "execution_count": 3,
   "id": "fecd884a",
   "metadata": {},
   "outputs": [],
   "source": [
    "url = \"https://github.com/topics\""
   ]
  },
  {
   "cell_type": "code",
   "execution_count": 4,
   "id": "202a8196",
   "metadata": {},
   "outputs": [
    {
     "data": {
      "text/plain": [
       "200"
      ]
     },
     "execution_count": 4,
     "metadata": {},
     "output_type": "execute_result"
    }
   ],
   "source": [
    "data = requests.get(url)\n",
    "data.status_code"
   ]
  },
  {
   "cell_type": "code",
   "execution_count": 5,
   "id": "9589c45c",
   "metadata": {},
   "outputs": [],
   "source": [
    "web_page = data.text"
   ]
  },
  {
   "cell_type": "markdown",
   "id": "ce5b154c",
   "metadata": {},
   "source": [
    "## Scraping information"
   ]
  },
  {
   "cell_type": "code",
   "execution_count": 7,
   "id": "e22d99d4",
   "metadata": {},
   "outputs": [],
   "source": [
    "doc = BeautifulSoup(web_page, \"html.parser\")"
   ]
  },
  {
   "cell_type": "code",
   "execution_count": 8,
   "id": "131ce064",
   "metadata": {},
   "outputs": [],
   "source": [
    "list_of_topics = []\n",
    "topic_section = doc.find('div', class_=\"application-main\").find(\"main\").find(\"div\", class_=\"d-lg-flex container-lg p-responsive\").find(\"div\", class_=\"col-lg-9 position-relative pr-lg-5 mb-6 mr-lg-5\")\n",
    "topics = topic_section.find_all(\"p\", class_=\"f3 lh-condensed mb-0 mt-1 Link--primary\")\n",
    "for i in range(len(topics)):\n",
    "    list_of_topics.append(topics[i].text)"
   ]
  },
  {
   "cell_type": "code",
   "execution_count": 9,
   "id": "b41d93fe",
   "metadata": {},
   "outputs": [],
   "source": [
    "list_of_topics_desc = []\n",
    "topic_desc_class = \"f5 color-fg-muted mb-0 mt-1\"\n",
    "topic_desc_section = doc.find_all('p', class_=topic_desc_class)\n",
    "for i in range(len(topic_desc_section)):\n",
    "    list_of_topics_desc.append(topic_desc_section[i].text.strip())"
   ]
  },
  {
   "cell_type": "code",
   "execution_count": 10,
   "id": "eddf46cf",
   "metadata": {},
   "outputs": [],
   "source": [
    "topic_urls = []\n",
    "base_url = \"https://github.com\"\n",
    "\n",
    "topic_url_class = \"no-underline flex-grow-0\"\n",
    "topic_url_section = doc.find_all('a', class_=topic_url_class)\n",
    "for i in range(len(topic_url_section)):\n",
    "    topic_urls.append(base_url+topic_url_section[i]['href'])"
   ]
  },
  {
   "cell_type": "markdown",
   "id": "c6393978",
   "metadata": {},
   "source": [
    "## Converting into dataframe"
   ]
  },
  {
   "cell_type": "code",
   "execution_count": 11,
   "id": "37929bfe",
   "metadata": {},
   "outputs": [],
   "source": [
    "topic_info_dict = {'topic_name': list_of_topics, 'topic_description': list_of_topics_desc,\n",
    "                  'topic_url': topic_urls}"
   ]
  },
  {
   "cell_type": "code",
   "execution_count": 13,
   "id": "0ecacf83",
   "metadata": {},
   "outputs": [],
   "source": [
    "topic_df = pd.DataFrame(topic_info_dict)"
   ]
  },
  {
   "cell_type": "code",
   "execution_count": 14,
   "id": "00eb4bfb",
   "metadata": {},
   "outputs": [
    {
     "data": {
      "text/html": [
       "<div>\n",
       "<style scoped>\n",
       "    .dataframe tbody tr th:only-of-type {\n",
       "        vertical-align: middle;\n",
       "    }\n",
       "\n",
       "    .dataframe tbody tr th {\n",
       "        vertical-align: top;\n",
       "    }\n",
       "\n",
       "    .dataframe thead th {\n",
       "        text-align: right;\n",
       "    }\n",
       "</style>\n",
       "<table border=\"1\" class=\"dataframe\">\n",
       "  <thead>\n",
       "    <tr style=\"text-align: right;\">\n",
       "      <th></th>\n",
       "      <th>topic_name</th>\n",
       "      <th>topic_description</th>\n",
       "      <th>topic_url</th>\n",
       "    </tr>\n",
       "  </thead>\n",
       "  <tbody>\n",
       "    <tr>\n",
       "      <th>0</th>\n",
       "      <td>3D</td>\n",
       "      <td>3D modeling is the process of virtually develo...</td>\n",
       "      <td>https://github.com/topics/3d</td>\n",
       "    </tr>\n",
       "    <tr>\n",
       "      <th>1</th>\n",
       "      <td>Ajax</td>\n",
       "      <td>Ajax is a technique for creating interactive w...</td>\n",
       "      <td>https://github.com/topics/ajax</td>\n",
       "    </tr>\n",
       "    <tr>\n",
       "      <th>2</th>\n",
       "      <td>Algorithm</td>\n",
       "      <td>Algorithms are self-contained sequences that c...</td>\n",
       "      <td>https://github.com/topics/algorithm</td>\n",
       "    </tr>\n",
       "    <tr>\n",
       "      <th>3</th>\n",
       "      <td>Amp</td>\n",
       "      <td>Amp is a non-blocking concurrency library for ...</td>\n",
       "      <td>https://github.com/topics/amphp</td>\n",
       "    </tr>\n",
       "    <tr>\n",
       "      <th>4</th>\n",
       "      <td>Android</td>\n",
       "      <td>Android is an operating system built by Google...</td>\n",
       "      <td>https://github.com/topics/android</td>\n",
       "    </tr>\n",
       "    <tr>\n",
       "      <th>5</th>\n",
       "      <td>Angular</td>\n",
       "      <td>Angular is an open source web application plat...</td>\n",
       "      <td>https://github.com/topics/angular</td>\n",
       "    </tr>\n",
       "    <tr>\n",
       "      <th>6</th>\n",
       "      <td>Ansible</td>\n",
       "      <td>Ansible is a simple and powerful automation en...</td>\n",
       "      <td>https://github.com/topics/ansible</td>\n",
       "    </tr>\n",
       "    <tr>\n",
       "      <th>7</th>\n",
       "      <td>API</td>\n",
       "      <td>An API (Application Programming Interface) is ...</td>\n",
       "      <td>https://github.com/topics/api</td>\n",
       "    </tr>\n",
       "    <tr>\n",
       "      <th>8</th>\n",
       "      <td>Arduino</td>\n",
       "      <td>Arduino is an open source hardware and softwar...</td>\n",
       "      <td>https://github.com/topics/arduino</td>\n",
       "    </tr>\n",
       "    <tr>\n",
       "      <th>9</th>\n",
       "      <td>ASP.NET</td>\n",
       "      <td>ASP.NET is a web framework for building modern...</td>\n",
       "      <td>https://github.com/topics/aspnet</td>\n",
       "    </tr>\n",
       "    <tr>\n",
       "      <th>10</th>\n",
       "      <td>Atom</td>\n",
       "      <td>Atom is a open source text editor built with w...</td>\n",
       "      <td>https://github.com/topics/atom</td>\n",
       "    </tr>\n",
       "    <tr>\n",
       "      <th>11</th>\n",
       "      <td>Awesome Lists</td>\n",
       "      <td>An awesome list is a list of awesome things cu...</td>\n",
       "      <td>https://github.com/topics/awesome</td>\n",
       "    </tr>\n",
       "    <tr>\n",
       "      <th>12</th>\n",
       "      <td>Amazon Web Services</td>\n",
       "      <td>Amazon Web Services provides on-demand cloud c...</td>\n",
       "      <td>https://github.com/topics/aws</td>\n",
       "    </tr>\n",
       "    <tr>\n",
       "      <th>13</th>\n",
       "      <td>Azure</td>\n",
       "      <td>Azure is a cloud computing service created by ...</td>\n",
       "      <td>https://github.com/topics/azure</td>\n",
       "    </tr>\n",
       "    <tr>\n",
       "      <th>14</th>\n",
       "      <td>Babel</td>\n",
       "      <td>Babel is a compiler for writing next generatio...</td>\n",
       "      <td>https://github.com/topics/babel</td>\n",
       "    </tr>\n",
       "    <tr>\n",
       "      <th>15</th>\n",
       "      <td>Bash</td>\n",
       "      <td>Bash is a shell and command language interpret...</td>\n",
       "      <td>https://github.com/topics/bash</td>\n",
       "    </tr>\n",
       "    <tr>\n",
       "      <th>16</th>\n",
       "      <td>Bitcoin</td>\n",
       "      <td>Bitcoin is a cryptocurrency developed by Satos...</td>\n",
       "      <td>https://github.com/topics/bitcoin</td>\n",
       "    </tr>\n",
       "    <tr>\n",
       "      <th>17</th>\n",
       "      <td>Bootstrap</td>\n",
       "      <td>Bootstrap is an HTML, CSS, and JavaScript fram...</td>\n",
       "      <td>https://github.com/topics/bootstrap</td>\n",
       "    </tr>\n",
       "    <tr>\n",
       "      <th>18</th>\n",
       "      <td>Bot</td>\n",
       "      <td>A bot is an application that runs automated ta...</td>\n",
       "      <td>https://github.com/topics/bot</td>\n",
       "    </tr>\n",
       "    <tr>\n",
       "      <th>19</th>\n",
       "      <td>C</td>\n",
       "      <td>C is a general purpose programming language th...</td>\n",
       "      <td>https://github.com/topics/c</td>\n",
       "    </tr>\n",
       "    <tr>\n",
       "      <th>20</th>\n",
       "      <td>Chrome</td>\n",
       "      <td>Chrome is a web browser from the tech company ...</td>\n",
       "      <td>https://github.com/topics/chrome</td>\n",
       "    </tr>\n",
       "    <tr>\n",
       "      <th>21</th>\n",
       "      <td>Chrome extension</td>\n",
       "      <td>Chrome extensions enable users to customize th...</td>\n",
       "      <td>https://github.com/topics/chrome-extension</td>\n",
       "    </tr>\n",
       "    <tr>\n",
       "      <th>22</th>\n",
       "      <td>Command line interface</td>\n",
       "      <td>A CLI, or command-line interface, is a console...</td>\n",
       "      <td>https://github.com/topics/cli</td>\n",
       "    </tr>\n",
       "    <tr>\n",
       "      <th>23</th>\n",
       "      <td>Clojure</td>\n",
       "      <td>Clojure is a dynamic, general-purpose programm...</td>\n",
       "      <td>https://github.com/topics/clojure</td>\n",
       "    </tr>\n",
       "    <tr>\n",
       "      <th>24</th>\n",
       "      <td>Code quality</td>\n",
       "      <td>Automate your code review with style, quality,...</td>\n",
       "      <td>https://github.com/topics/code-quality</td>\n",
       "    </tr>\n",
       "    <tr>\n",
       "      <th>25</th>\n",
       "      <td>Code review</td>\n",
       "      <td>Ensure your code meets quality standards and s...</td>\n",
       "      <td>https://github.com/topics/code-review</td>\n",
       "    </tr>\n",
       "    <tr>\n",
       "      <th>26</th>\n",
       "      <td>Compiler</td>\n",
       "      <td>Compilers are software that translate higher-l...</td>\n",
       "      <td>https://github.com/topics/compiler</td>\n",
       "    </tr>\n",
       "    <tr>\n",
       "      <th>27</th>\n",
       "      <td>Continuous integration</td>\n",
       "      <td>Automatically build and test your code as you ...</td>\n",
       "      <td>https://github.com/topics/continuous-integration</td>\n",
       "    </tr>\n",
       "    <tr>\n",
       "      <th>28</th>\n",
       "      <td>COVID-19</td>\n",
       "      <td>The coronavirus disease 2019 (COVID-19) is an ...</td>\n",
       "      <td>https://github.com/topics/covid-19</td>\n",
       "    </tr>\n",
       "    <tr>\n",
       "      <th>29</th>\n",
       "      <td>C++</td>\n",
       "      <td>C++ is a general purpose and object-oriented p...</td>\n",
       "      <td>https://github.com/topics/cpp</td>\n",
       "    </tr>\n",
       "  </tbody>\n",
       "</table>\n",
       "</div>"
      ],
      "text/plain": [
       "                topic_name                                  topic_description  \\\n",
       "0                       3D  3D modeling is the process of virtually develo...   \n",
       "1                     Ajax  Ajax is a technique for creating interactive w...   \n",
       "2                Algorithm  Algorithms are self-contained sequences that c...   \n",
       "3                      Amp  Amp is a non-blocking concurrency library for ...   \n",
       "4                  Android  Android is an operating system built by Google...   \n",
       "5                  Angular  Angular is an open source web application plat...   \n",
       "6                  Ansible  Ansible is a simple and powerful automation en...   \n",
       "7                      API  An API (Application Programming Interface) is ...   \n",
       "8                  Arduino  Arduino is an open source hardware and softwar...   \n",
       "9                  ASP.NET  ASP.NET is a web framework for building modern...   \n",
       "10                    Atom  Atom is a open source text editor built with w...   \n",
       "11           Awesome Lists  An awesome list is a list of awesome things cu...   \n",
       "12     Amazon Web Services  Amazon Web Services provides on-demand cloud c...   \n",
       "13                   Azure  Azure is a cloud computing service created by ...   \n",
       "14                   Babel  Babel is a compiler for writing next generatio...   \n",
       "15                    Bash  Bash is a shell and command language interpret...   \n",
       "16                 Bitcoin  Bitcoin is a cryptocurrency developed by Satos...   \n",
       "17               Bootstrap  Bootstrap is an HTML, CSS, and JavaScript fram...   \n",
       "18                     Bot  A bot is an application that runs automated ta...   \n",
       "19                       C  C is a general purpose programming language th...   \n",
       "20                  Chrome  Chrome is a web browser from the tech company ...   \n",
       "21        Chrome extension  Chrome extensions enable users to customize th...   \n",
       "22  Command line interface  A CLI, or command-line interface, is a console...   \n",
       "23                 Clojure  Clojure is a dynamic, general-purpose programm...   \n",
       "24            Code quality  Automate your code review with style, quality,...   \n",
       "25             Code review  Ensure your code meets quality standards and s...   \n",
       "26                Compiler  Compilers are software that translate higher-l...   \n",
       "27  Continuous integration  Automatically build and test your code as you ...   \n",
       "28                COVID-19  The coronavirus disease 2019 (COVID-19) is an ...   \n",
       "29                     C++  C++ is a general purpose and object-oriented p...   \n",
       "\n",
       "                                           topic_url  \n",
       "0                       https://github.com/topics/3d  \n",
       "1                     https://github.com/topics/ajax  \n",
       "2                https://github.com/topics/algorithm  \n",
       "3                    https://github.com/topics/amphp  \n",
       "4                  https://github.com/topics/android  \n",
       "5                  https://github.com/topics/angular  \n",
       "6                  https://github.com/topics/ansible  \n",
       "7                      https://github.com/topics/api  \n",
       "8                  https://github.com/topics/arduino  \n",
       "9                   https://github.com/topics/aspnet  \n",
       "10                    https://github.com/topics/atom  \n",
       "11                 https://github.com/topics/awesome  \n",
       "12                     https://github.com/topics/aws  \n",
       "13                   https://github.com/topics/azure  \n",
       "14                   https://github.com/topics/babel  \n",
       "15                    https://github.com/topics/bash  \n",
       "16                 https://github.com/topics/bitcoin  \n",
       "17               https://github.com/topics/bootstrap  \n",
       "18                     https://github.com/topics/bot  \n",
       "19                       https://github.com/topics/c  \n",
       "20                  https://github.com/topics/chrome  \n",
       "21        https://github.com/topics/chrome-extension  \n",
       "22                     https://github.com/topics/cli  \n",
       "23                 https://github.com/topics/clojure  \n",
       "24            https://github.com/topics/code-quality  \n",
       "25             https://github.com/topics/code-review  \n",
       "26                https://github.com/topics/compiler  \n",
       "27  https://github.com/topics/continuous-integration  \n",
       "28                https://github.com/topics/covid-19  \n",
       "29                     https://github.com/topics/cpp  "
      ]
     },
     "execution_count": 14,
     "metadata": {},
     "output_type": "execute_result"
    }
   ],
   "source": [
    "topic_df"
   ]
  },
  {
   "cell_type": "code",
   "execution_count": 15,
   "id": "9ad1c040",
   "metadata": {},
   "outputs": [],
   "source": [
    "# topic_df.to_csv(\"topics.csv\", index=None)"
   ]
  },
  {
   "cell_type": "markdown",
   "id": "9a103a25",
   "metadata": {},
   "source": [
    "## Working on individual topic page"
   ]
  },
  {
   "cell_type": "code",
   "execution_count": 20,
   "id": "e90b3d95",
   "metadata": {},
   "outputs": [],
   "source": [
    "topic0 = topic_urls[0]"
   ]
  },
  {
   "cell_type": "code",
   "execution_count": 23,
   "id": "f1ee9e29",
   "metadata": {},
   "outputs": [
    {
     "data": {
      "text/plain": [
       "200"
      ]
     },
     "execution_count": 23,
     "metadata": {},
     "output_type": "execute_result"
    }
   ],
   "source": [
    "res = requests.get(topic0)\n",
    "res.status_code"
   ]
  },
  {
   "cell_type": "code",
   "execution_count": 25,
   "id": "77a5f21c",
   "metadata": {},
   "outputs": [],
   "source": [
    "topic_page = res.text"
   ]
  },
  {
   "cell_type": "code",
   "execution_count": 27,
   "id": "c9f6cf3e",
   "metadata": {},
   "outputs": [],
   "source": [
    "topic_doc = BeautifulSoup(topic_page, \"html.parser\")"
   ]
  },
  {
   "cell_type": "markdown",
   "id": "faf655c5",
   "metadata": {},
   "source": [
    "### Getting topic name, topic description, repo name and repo owner name"
   ]
  },
  {
   "cell_type": "code",
   "execution_count": 33,
   "id": "fe355957",
   "metadata": {},
   "outputs": [],
   "source": [
    "topic_name = topic_doc.find('h1', class_='h1').text.strip()"
   ]
  },
  {
   "cell_type": "code",
   "execution_count": 34,
   "id": "824e6ba7",
   "metadata": {},
   "outputs": [],
   "source": [
    "topic_desc = topic_doc.find('div', class_='markdown-body f5 mb-2').find('p').text.strip()"
   ]
  },
  {
   "cell_type": "code",
   "execution_count": 50,
   "id": "ae60a949",
   "metadata": {},
   "outputs": [],
   "source": [
    "repo_creator = topic_doc.find('h3', class_='f3 color-fg-muted text-normal lh-condensed').find('a').text.strip()"
   ]
  },
  {
   "cell_type": "code",
   "execution_count": 48,
   "id": "aecf2b07",
   "metadata": {},
   "outputs": [],
   "source": [
    "repo_name = topic_doc.find('h3', class_='f3 color-fg-muted text-normal lh-condensed').find_all('a')[-1].text.strip()"
   ]
  },
  {
   "cell_type": "code",
   "execution_count": 55,
   "id": "629e904f",
   "metadata": {},
   "outputs": [],
   "source": [
    "repo_owner = []\n",
    "repo_creator = topic_doc.find_all('h3', class_='f3 color-fg-muted text-normal lh-condensed')\n",
    "\n",
    "for repo in repo_creator:\n",
    "    repo_owner.append(repo.find('a').text.strip())"
   ]
  },
  {
   "cell_type": "code",
   "execution_count": 62,
   "id": "9aa45469",
   "metadata": {},
   "outputs": [
    {
     "data": {
      "text/plain": [
       "<a class=\"text-bold wb-break-word\" data-hydro-click='{\"event_type\":\"explore.click\",\"payload\":{\"click_context\":\"REPOSITORY_CARD\",\"click_target\":\"REPOSITORY\",\"click_visual_representation\":\"REPOSITORY_NAME_HEADING\",\"actor_id\":null,\"record_id\":576201,\"originating_url\":\"https://github.com/topics/3d\",\"user_id\":null}}' data-hydro-click-hmac=\"517d3d5cb9d89752156923904a4238816bc9b51ab7772f3e3644ce897d8dd4e5\" data-turbo=\"false\" data-view-component=\"true\" href=\"/mrdoob/three.js\">\n",
       "            three.js\n",
       "</a>"
      ]
     },
     "execution_count": 62,
     "metadata": {},
     "output_type": "execute_result"
    }
   ],
   "source": [
    "repo_creator[0].find_all('a')[-1]"
   ]
  },
  {
   "cell_type": "code",
   "execution_count": 63,
   "id": "1bbe3820",
   "metadata": {},
   "outputs": [],
   "source": [
    "repo_names = []\n",
    "\n",
    "for repo in repo_creator:\n",
    "    repo_names.append(repo.find_all('a')[-1].text.strip())"
   ]
  },
  {
   "cell_type": "code",
   "execution_count": 91,
   "id": "9561bb3e",
   "metadata": {},
   "outputs": [
    {
     "data": {
      "text/plain": [
       "(520, 520, 26, 26)"
      ]
     },
     "execution_count": 91,
     "metadata": {},
     "output_type": "execute_result"
    }
   ],
   "source": [
    "len(repo_owner), len(repo_names), len(topic_names), len(topic_descs)"
   ]
  },
  {
   "cell_type": "markdown",
   "id": "6c74b4fe",
   "metadata": {},
   "source": [
    "## Defining a function "
   ]
  },
  {
   "cell_type": "code",
   "execution_count": 77,
   "id": "79c0dd09",
   "metadata": {},
   "outputs": [],
   "source": [
    "topic_names = []\n",
    "topic_descs = []\n",
    "repo_names = []\n",
    "repo_owner = []\n",
    "\n",
    "def topics_page(topic_url):\n",
    "    res = requests.get(topic_url)\n",
    "    try:\n",
    "        page = res.text\n",
    "        topic_doc = BeautifulSoup(page, \"html.parser\")\n",
    "        \n",
    "        #extracting name\n",
    "        topic_names.append(topic_doc.find('h1', class_='h1').text.strip())\n",
    "        \n",
    "        #extracting descriptions\n",
    "        topic_descs.append(topic_doc.find('div', class_='markdown-body f5 mb-2').find('p').text.strip())\n",
    "        \n",
    "        repo_creator = topic_doc.find_all('h3', class_='f3 color-fg-muted text-normal lh-condensed')\n",
    "        \n",
    "        #extracting repo owner\n",
    "        for repo in repo_creator:\n",
    "            repo_owner.append(repo.find('a').text.strip())\n",
    "        \n",
    "        #extracting repo name\n",
    "        for repo in repo_creator:\n",
    "            repo_names.append(repo.find_all('a')[-1].text.strip())\n",
    "    except:\n",
    "        return 404\n",
    "    \n",
    "    return topic_names, topic_descs, repo_owner, repo_names"
   ]
  },
  {
   "cell_type": "code",
   "execution_count": 78,
   "id": "221ac23b",
   "metadata": {},
   "outputs": [],
   "source": [
    "for url in topic_df['topic_url']:\n",
    "    topics_page(url)"
   ]
  },
  {
   "cell_type": "code",
   "execution_count": 84,
   "id": "13c1c763",
   "metadata": {},
   "outputs": [],
   "source": [
    "repo_info_dict = {'repo_owner': repo_owner, 'repo_names': repo_names}"
   ]
  },
  {
   "cell_type": "code",
   "execution_count": 85,
   "id": "a3f61b96",
   "metadata": {},
   "outputs": [],
   "source": [
    "repo_info_df = pd.DataFrame(repo_info_dict)"
   ]
  },
  {
   "cell_type": "code",
   "execution_count": 95,
   "id": "267a6714",
   "metadata": {},
   "outputs": [
    {
     "data": {
      "text/html": [
       "<div>\n",
       "<style scoped>\n",
       "    .dataframe tbody tr th:only-of-type {\n",
       "        vertical-align: middle;\n",
       "    }\n",
       "\n",
       "    .dataframe tbody tr th {\n",
       "        vertical-align: top;\n",
       "    }\n",
       "\n",
       "    .dataframe thead th {\n",
       "        text-align: right;\n",
       "    }\n",
       "</style>\n",
       "<table border=\"1\" class=\"dataframe\">\n",
       "  <thead>\n",
       "    <tr style=\"text-align: right;\">\n",
       "      <th></th>\n",
       "      <th>repo_owner</th>\n",
       "      <th>repo_names</th>\n",
       "    </tr>\n",
       "  </thead>\n",
       "  <tbody>\n",
       "    <tr>\n",
       "      <th>0</th>\n",
       "      <td>mrdoob</td>\n",
       "      <td>three.js</td>\n",
       "    </tr>\n",
       "    <tr>\n",
       "      <th>1</th>\n",
       "      <td>libgdx</td>\n",
       "      <td>libgdx</td>\n",
       "    </tr>\n",
       "    <tr>\n",
       "      <th>2</th>\n",
       "      <td>pmndrs</td>\n",
       "      <td>react-three-fiber</td>\n",
       "    </tr>\n",
       "    <tr>\n",
       "      <th>3</th>\n",
       "      <td>BabylonJS</td>\n",
       "      <td>Babylon.js</td>\n",
       "    </tr>\n",
       "    <tr>\n",
       "      <th>4</th>\n",
       "      <td>ssloy</td>\n",
       "      <td>tinyrenderer</td>\n",
       "    </tr>\n",
       "    <tr>\n",
       "      <th>...</th>\n",
       "      <td>...</td>\n",
       "      <td>...</td>\n",
       "    </tr>\n",
       "    <tr>\n",
       "      <th>515</th>\n",
       "      <td>code-review-checklists</td>\n",
       "      <td>java-concurrency</td>\n",
       "    </tr>\n",
       "    <tr>\n",
       "      <th>516</th>\n",
       "      <td>jiangsir404</td>\n",
       "      <td>Audit-Learning</td>\n",
       "    </tr>\n",
       "    <tr>\n",
       "      <th>517</th>\n",
       "      <td>TeamCodeStream</td>\n",
       "      <td>codestream</td>\n",
       "    </tr>\n",
       "    <tr>\n",
       "      <th>518</th>\n",
       "      <td>enlightn</td>\n",
       "      <td>enlightn</td>\n",
       "    </tr>\n",
       "    <tr>\n",
       "      <th>519</th>\n",
       "      <td>palantir</td>\n",
       "      <td>policy-bot</td>\n",
       "    </tr>\n",
       "  </tbody>\n",
       "</table>\n",
       "<p>520 rows × 2 columns</p>\n",
       "</div>"
      ],
      "text/plain": [
       "                 repo_owner         repo_names\n",
       "0                    mrdoob           three.js\n",
       "1                    libgdx             libgdx\n",
       "2                    pmndrs  react-three-fiber\n",
       "3                 BabylonJS         Babylon.js\n",
       "4                     ssloy       tinyrenderer\n",
       "..                      ...                ...\n",
       "515  code-review-checklists   java-concurrency\n",
       "516             jiangsir404     Audit-Learning\n",
       "517          TeamCodeStream         codestream\n",
       "518                enlightn           enlightn\n",
       "519                palantir         policy-bot\n",
       "\n",
       "[520 rows x 2 columns]"
      ]
     },
     "execution_count": 95,
     "metadata": {},
     "output_type": "execute_result"
    }
   ],
   "source": [
    "repo_info_df"
   ]
  },
  {
   "cell_type": "code",
   "execution_count": 96,
   "id": "11ee1a7a",
   "metadata": {},
   "outputs": [],
   "source": [
    "repo_info_df.to_csv(\"repo_info_df.csv\", index=None)"
   ]
  },
  {
   "cell_type": "code",
   "execution_count": null,
   "id": "b149d0d1",
   "metadata": {},
   "outputs": [],
   "source": []
  }
 ],
 "metadata": {
  "kernelspec": {
   "display_name": "Python 3 (ipykernel)",
   "language": "python",
   "name": "python3"
  },
  "language_info": {
   "codemirror_mode": {
    "name": "ipython",
    "version": 3
   },
   "file_extension": ".py",
   "mimetype": "text/x-python",
   "name": "python",
   "nbconvert_exporter": "python",
   "pygments_lexer": "ipython3",
   "version": "3.9.8"
  }
 },
 "nbformat": 4,
 "nbformat_minor": 5
}
